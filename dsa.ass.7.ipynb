{
 "cells": [
  {
   "cell_type": "markdown",
   "id": "ff18c6d2",
   "metadata": {},
   "source": [
    "# **Question 1**\n",
    "\n",
    "# Given two strings s and t, *determine if they are isomorphic*.\n",
    "\n",
    "# Two strings s and t are isomorphic if the characters in s can be replaced to get t.\n",
    "\n",
    "# All occurrences of a character must be replaced with another character while preserving the order of characters. No two characters may map to the same character, but a character may map to itself.\n",
    "\n",
    "# **Example 1:**\n",
    "\n",
    "# **Input:** s = \"egg\", t = \"add\"\n",
    "\n",
    "# **Output:** true"
   ]
  },
  {
   "cell_type": "code",
   "execution_count": 1,
   "id": "0b98b99c",
   "metadata": {},
   "outputs": [
    {
     "name": "stdout",
     "output_type": "stream",
     "text": [
      "True\n"
     ]
    }
   ],
   "source": [
    "def isIsomorphic(s, t):\n",
    "    if len(s) != len(t):\n",
    "        return False\n",
    "\n",
    "    s_to_t = {}\n",
    "    t_to_s = {}\n",
    "\n",
    "    for i in range(len(s)):\n",
    "        char_s = s[i]\n",
    "        char_t = t[i]\n",
    "\n",
    "        if char_s in s_to_t:\n",
    "            if s_to_t[char_s] != char_t:\n",
    "                return False\n",
    "        else:\n",
    "            s_to_t[char_s] = char_t\n",
    "\n",
    "        if char_t in t_to_s:\n",
    "            if t_to_s[char_t] != char_s:\n",
    "                return False\n",
    "        else:\n",
    "            t_to_s[char_t] = char_s\n",
    "\n",
    "    return True\n",
    "\n",
    "# Test the function\n",
    "s = \"egg\"\n",
    "t = \"add\"\n",
    "print(isIsomorphic(s, t))  # Output: True\n"
   ]
  },
  {
   "cell_type": "markdown",
   "id": "60e34fbc",
   "metadata": {},
   "source": [
    "#  **Question 2**\n",
    "\n",
    "# Given a string num which represents an integer, return true *if* num *is a **strobogrammatic number***.\n",
    "\n",
    "# A **strobogrammatic number** is a number that looks the same when rotated 180 degrees (looked at upside down).\n",
    "\n",
    "# **Example 1:**\n",
    "\n",
    "# **Input:** num = \"69\"\n",
    "\n",
    "# **Output:**\n",
    "\n",
    "# true"
   ]
  },
  {
   "cell_type": "code",
   "execution_count": 2,
   "id": "e2c54220",
   "metadata": {},
   "outputs": [
    {
     "name": "stdout",
     "output_type": "stream",
     "text": [
      "True\n"
     ]
    }
   ],
   "source": [
    "def isStrobogrammatic(num):\n",
    "    # Define the valid digit mappings\n",
    "    mappings = {'0': '0', '1': '1', '6': '9', '8': '8', '9': '6'}\n",
    "\n",
    "    # Initialize pointers at the start and end of the number\n",
    "    left = 0\n",
    "    right = len(num) - 1\n",
    "\n",
    "    while left <= right:\n",
    "        # Check if the current digits have a valid mapping\n",
    "        if num[left] not in mappings or num[right] not in mappings:\n",
    "            return False\n",
    "\n",
    "        # Check if the digits are symmetric\n",
    "        if mappings[num[left]] != num[right]:\n",
    "            return False\n",
    "\n",
    "        # Move the pointers inward\n",
    "        left += 1\n",
    "        right -= 1\n",
    "\n",
    "    return True\n",
    "\n",
    "# Test the function\n",
    "num = \"69\"\n",
    "print(isStrobogrammatic(num))  # Output: True\n"
   ]
  },
  {
   "cell_type": "markdown",
   "id": "bdb83198",
   "metadata": {},
   "source": [
    "# **Question 3**\n",
    "\n",
    "# Given two non-negative integers, num1 and num2 represented as string, return *the sum of* num1 *and* num2 *as a string*.\n",
    "\n",
    "# You must solve the problem without using any built-in library for handling large integers (such as BigInteger). You must also not convert the inputs to integers directly.\n",
    "\n",
    "# **Example 1:**\n",
    "\n",
    "# **Input:** num1 = \"11\", num2 = \"123\"\n",
    "\n",
    "# **Output:**\n",
    "\n",
    "# \"134\""
   ]
  },
  {
   "cell_type": "code",
   "execution_count": 3,
   "id": "4761ccd9",
   "metadata": {},
   "outputs": [
    {
     "name": "stdout",
     "output_type": "stream",
     "text": [
      "134\n"
     ]
    }
   ],
   "source": [
    "def addStrings(num1, num2):\n",
    "    # Initialize pointers at the end of the strings\n",
    "    i = len(num1) - 1\n",
    "    j = len(num2) - 1\n",
    "\n",
    "    # Initialize carry and result variables\n",
    "    carry = 0\n",
    "    result = \"\"\n",
    "\n",
    "    # Iterate through the digits from right to left\n",
    "    while i >= 0 or j >= 0 or carry > 0:\n",
    "        # Get the current digits or 0 if reached the beginning of the string\n",
    "        digit1 = int(num1[i]) if i >= 0 else 0\n",
    "        digit2 = int(num2[j]) if j >= 0 else 0\n",
    "\n",
    "        # Compute the sum of the digits and carry\n",
    "        digit_sum = digit1 + digit2 + carry\n",
    "        carry = digit_sum // 10\n",
    "        digit_sum %= 10\n",
    "\n",
    "        # Append the current digit to the result\n",
    "        result = str(digit_sum) + result\n",
    "\n",
    "        # Move the pointers inward\n",
    "        i -= 1\n",
    "        j -= 1\n",
    "\n",
    "    return result\n",
    "\n",
    "# Test the function\n",
    "num1 = \"11\"\n",
    "num2 = \"123\"\n",
    "print(addStrings(num1, num2))  # Output: \"134\"\n"
   ]
  },
  {
   "cell_type": "markdown",
   "id": "2535273f",
   "metadata": {},
   "source": [
    "# **Question 4**\n",
    "\n",
    "# Given a string s, reverse the order of characters in each word within a sentence while still preserving whitespace and initial word order.\n",
    "\n",
    "# **Example 1:**\n",
    "\n",
    "# **Input:** s = \"Let's take LeetCode contest\"\n",
    "\n",
    "# **Output:** \"s'teL ekat edoCteeL tsetnoc\""
   ]
  },
  {
   "cell_type": "code",
   "execution_count": 4,
   "id": "fd21b405",
   "metadata": {},
   "outputs": [
    {
     "name": "stdout",
     "output_type": "stream",
     "text": [
      "s'teL ekat edoCteeL tsetnoc\n"
     ]
    }
   ],
   "source": [
    "def reverseWords(s):\n",
    "    # Split the sentence into words\n",
    "    words = s.split()\n",
    "\n",
    "    # Reverse each word\n",
    "    reversed_words = [word[::-1] for word in words]\n",
    "\n",
    "    # Join the reversed words back into a sentence\n",
    "    reversed_sentence = \" \".join(reversed_words)\n",
    "\n",
    "    return reversed_sentence\n",
    "\n",
    "# Test the function\n",
    "s = \"Let's take LeetCode contest\"\n",
    "print(reverseWords(s))  # Output: \"s'teL ekat edoCteeL tsetnoc\"\n"
   ]
  },
  {
   "cell_type": "markdown",
   "id": "76972b99",
   "metadata": {},
   "source": [
    "# **Question 5**\n",
    "\n",
    "# Given a string s and an integer k, reverse the first k characters for every 2k characters counting from the start of the string.\n",
    "\n",
    "# If there are fewer than k characters left, reverse all of them. If there are less than 2k but greater than or equal to k characters, then reverse the first k characters and leave the other as original.\n",
    "\n",
    "# **Example 1:**\n",
    "\n",
    "# **Input:** s = \"abcdefg\", k = 2\n",
    "\n",
    "# **Output:**\n",
    "\n",
    "# \"bacdfeg\""
   ]
  },
  {
   "cell_type": "code",
   "execution_count": 5,
   "id": "225842a7",
   "metadata": {},
   "outputs": [
    {
     "name": "stdout",
     "output_type": "stream",
     "text": [
      "bacdfeg\n"
     ]
    }
   ],
   "source": [
    "def reverseStr(s, k):\n",
    "    # Convert the string to a list of characters\n",
    "    chars = list(s)\n",
    "\n",
    "    # Iterate through the string in steps of 2k\n",
    "    for i in range(0, len(chars), 2 * k):\n",
    "        # Reverse the first k characters if there are enough characters remaining\n",
    "        if i + k <= len(chars):\n",
    "            chars[i:i + k] = reversed(chars[i:i + k])\n",
    "\n",
    "    # Convert the list of characters back to a string\n",
    "    reversed_str = \"\".join(chars)\n",
    "\n",
    "    return reversed_str\n",
    "\n",
    "# Test the function\n",
    "s = \"abcdefg\"\n",
    "k = 2\n",
    "print(reverseStr(s, k))  # Output: \"bacdfeg\"\n"
   ]
  },
  {
   "cell_type": "markdown",
   "id": "89546e8a",
   "metadata": {},
   "source": [
    "# **Question 6**\n",
    "\n",
    "# Given two strings s and goal, return true *if and only if* s *can become* goal *after some number of **shifts** on* s.\n",
    "\n",
    "# A **shift** on s consists of moving the leftmost character of s to the rightmost position.\n",
    "\n",
    "# - For example, if s = \"abcde\", then it will be \"bcdea\" after one shift.\n",
    "\n",
    "# **Example 1:**\n",
    "\n",
    "# **Input:** s = \"abcde\", goal = \"cdeab\"\n",
    "\n",
    "# **Output:**\n",
    "\n",
    "# true"
   ]
  },
  {
   "cell_type": "code",
   "execution_count": 6,
   "id": "e306b600",
   "metadata": {},
   "outputs": [
    {
     "name": "stdout",
     "output_type": "stream",
     "text": [
      "True\n"
     ]
    }
   ],
   "source": [
    "def rotateString(s, goal):\n",
    "    # Check if goal is a substring of s + s\n",
    "    return len(s) == len(goal) and goal in (s + s)\n",
    "\n",
    "# Test the function\n",
    "s = \"abcde\"\n",
    "goal = \"cdeab\"\n",
    "print(rotateString(s, goal))  # Output: True\n"
   ]
  },
  {
   "cell_type": "markdown",
   "id": "a5bc2b25",
   "metadata": {},
   "source": [
    "#  **Question 7**\n",
    "\n",
    "# Given two strings s and t, return true *if they are equal when both are typed into empty text editors*. '#' means a backspace character.\n",
    "\n",
    "# Note that after backspacing an empty text, the text will continue empty.\n",
    "\n",
    "# **Example 1:**\n",
    "\n",
    "# **Input:** s = \"ab#c\", t = \"ad#c\"\n",
    "\n",
    "# **Output:** true\n",
    "\n",
    "# **Explanation:**\n",
    "\n",
    "# Both s and t become \"ac\""
   ]
  },
  {
   "cell_type": "code",
   "execution_count": 7,
   "id": "009faf96",
   "metadata": {},
   "outputs": [
    {
     "name": "stdout",
     "output_type": "stream",
     "text": [
      "True\n"
     ]
    }
   ],
   "source": [
    "def backspaceCompare(s, t):\n",
    "    def build_string(string):\n",
    "        stack = []\n",
    "        for char in string:\n",
    "            if char != '#':\n",
    "                stack.append(char)\n",
    "            elif stack:\n",
    "                stack.pop()\n",
    "        return \"\".join(stack)\n",
    "    \n",
    "    return build_string(s) == build_string(t)\n",
    "\n",
    "# Test the function\n",
    "s = \"ab#c\"\n",
    "t = \"ad#c\"\n",
    "print(backspaceCompare(s, t))  # Output: True\n"
   ]
  },
  {
   "cell_type": "markdown",
   "id": "9eb663ca",
   "metadata": {},
   "source": [
    "# **Question 8**\n",
    "\n",
    "# You are given an array coordinates, coordinates[i] = [x, y], where [x, y] represents the coordinate of a point. Check if these points make a straight line in the XY plane.\n",
    "\n",
    "# **Input:** coordinates = [[1,2],[2,3],[3,4],[4,5],[5,6],[6,7]]\n",
    "\n",
    "# **Output:** true"
   ]
  },
  {
   "cell_type": "code",
   "execution_count": 8,
   "id": "893e71cb",
   "metadata": {},
   "outputs": [
    {
     "name": "stdout",
     "output_type": "stream",
     "text": [
      "True\n"
     ]
    }
   ],
   "source": [
    "def checkStraightLine(coordinates):\n",
    "    if len(coordinates) <= 2:\n",
    "        return True\n",
    "    \n",
    "    x1, y1 = coordinates[0]\n",
    "    x2, y2 = coordinates[1]\n",
    "    \n",
    "    for i in range(2, len(coordinates)):\n",
    "        x, y = coordinates[i]\n",
    "        \n",
    "        if (y2 - y1) * (x - x1) != (y - y1) * (x2 - x1):\n",
    "            return False\n",
    "    \n",
    "    return True\n",
    "\n",
    "# Test the function\n",
    "coordinates = [[1,2],[2,3],[3,4],[4,5],[5,6],[6,7]]\n",
    "print(checkStraightLine(coordinates))  # Output: True\n"
   ]
  },
  {
   "cell_type": "code",
   "execution_count": null,
   "id": "069af231",
   "metadata": {},
   "outputs": [],
   "source": []
  }
 ],
 "metadata": {
  "kernelspec": {
   "display_name": "Python 3 (ipykernel)",
   "language": "python",
   "name": "python3"
  },
  "language_info": {
   "codemirror_mode": {
    "name": "ipython",
    "version": 3
   },
   "file_extension": ".py",
   "mimetype": "text/x-python",
   "name": "python",
   "nbconvert_exporter": "python",
   "pygments_lexer": "ipython3",
   "version": "3.9.12"
  }
 },
 "nbformat": 4,
 "nbformat_minor": 5
}
